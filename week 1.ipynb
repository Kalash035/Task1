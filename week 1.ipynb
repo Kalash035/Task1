{
 "cells": [
  {
   "cell_type": "code",
   "execution_count": 1,
   "id": "f7af55a6-a0f0-4a2f-b3a9-841c96a0f90a",
   "metadata": {},
   "outputs": [
    {
     "name": "stdout",
     "output_type": "stream",
     "text": [
      "Changed List: [8, 3, 4, 5, 6, 7]\n"
     ]
    }
   ],
   "source": [
    "#creating a list\n",
    "my_list = [1,2,3,4,5,6]\n",
    "\n",
    "#adding an element\n",
    "my_list.append(7)\n",
    "\n",
    "#removing an element\n",
    "my_list.remove(1)\n",
    "\n",
    "#modifying an element\n",
    "my_list[0] = 8\n",
    "\n",
    "print(\"Changed List:\" ,my_list)\n"
   ]
  },
  {
   "cell_type": "code",
   "execution_count": 3,
   "id": "a3bb31f0-1cd2-47a3-8cbb-961d227e24a8",
   "metadata": {},
   "outputs": [
    {
     "name": "stdout",
     "output_type": "stream",
     "text": [
      "Changed Dictionary: {'name': 'Kalash', 'age': '22', 'gender': 'Male'}\n"
     ]
    }
   ],
   "source": [
    "#creating a dictionary\n",
    "my_dict = {'name': 'Kalash', 'age': 21, 'city': 'Delhi' } \n",
    "\n",
    "#adding \n",
    "my_dict['gender'] = 'Male'\n",
    "\n",
    "#removing \n",
    "del my_dict['city']\n",
    "\n",
    "#modifying an element\n",
    "my_dict['age'] = '22'\n",
    "\n",
    "print(\"Changed Dictionary:\" ,my_dict)\n"
   ]
  },
  {
   "cell_type": "code",
   "execution_count": 3,
   "id": "ed7bf160-9b61-4b39-8764-964a664a9f7c",
   "metadata": {},
   "outputs": [
    {
     "name": "stdout",
     "output_type": "stream",
     "text": [
      "Changed Dictionary: {'name': 'Kalash', 'age': '22', 'gender': 'Male'}\n"
     ]
    }
   ],
   "source": [
    "#creating a dictionary\n",
    "my_dict = {'name': 'Kalash', 'age': 21, 'city': 'Delhi' } \n",
    "\n",
    "#adding \n",
    "my_dict['gender'] = 'Male'\n",
    "\n",
    "#removing \n",
    "del my_dict['city']\n",
    "\n",
    "#modifying an element\n",
    "my_dict['age'] = '22'\n",
    "\n",
    "print(\"Changed Dictionary:\" ,my_dict)\n"
   ]
  },
  {
   "cell_type": "code",
   "execution_count": 4,
   "id": "19795cb9-0bf4-44e5-bf3d-ec7e1902c981",
   "metadata": {},
   "outputs": [
    {
     "name": "stdout",
     "output_type": "stream",
     "text": [
      "Changed Set: {3, 4, 5, 6, 7, 10}\n"
     ]
    }
   ],
   "source": [
    "#creating a set\n",
    "my_set = {1,2,3,4,5,6}\n",
    "\n",
    "#adding an element\n",
    "my_set.add(7)\n",
    "\n",
    "#removing an element\n",
    "my_set.remove(1)\n",
    "\n",
    "#modifying an element\n",
    "my_set.discard(2)\n",
    "my_set.add(10)\n",
    "\n",
    "print(\"Changed Set:\" ,my_set)"
   ]
  }
 ],
 "metadata": {
  "kernelspec": {
   "display_name": "Python 3 (ipykernel)",
   "language": "python",
   "name": "python3"
  },
  "language_info": {
   "codemirror_mode": {
    "name": "ipython",
    "version": 3
   },
   "file_extension": ".py",
   "mimetype": "text/x-python",
   "name": "python",
   "nbconvert_exporter": "python",
   "pygments_lexer": "ipython3",
   "version": "3.12.3"
  }
 },
 "nbformat": 4,
 "nbformat_minor": 5
}
